{
 "cells": [
  {
   "cell_type": "markdown",
   "metadata": {},
   "source": [
    "![DSL_logo](dsl_logo.png)\n",
    "\n",
    "\n",
    "# Python 2.0!\n",
    "\n",
    "Welcome to the Digital Scholarship Lab Level 2 Python workshop. Before proceeding please make sure you've completed [part 1](https://github.com/BrockDSL/Intro_to_Python_Workshop) \n",
    "\n",
    "Which covers that:\n",
    "- variables\n",
    "- math\n",
    "- conditional\n",
    "- loops\n",
    "- functions\n",
    "\n",
    "\n",
    "What we'll learn today is:\n",
    "- importing libraries\n",
    "- analyzing data with pandas\n",
    "- plotting data with matplot lib\n",
    "\n",
    "Join the [Etherpad](http://139.57.126.30:32780/p/Python2)\n",
    "\n",
    "\n",
    "\n"
   ]
  },
  {
   "cell_type": "markdown",
   "metadata": {},
   "source": [
    "\n",
    "Before we get going the next cell should look totally familar to you"
   ]
  },
  {
   "cell_type": "code",
   "execution_count": null,
   "metadata": {},
   "outputs": [],
   "source": [
    "scores = [3,5,6,2,1,6]\n",
    "\n",
    "def find_mean(scores):\n",
    "    \n",
    "    sum = 0\n",
    "    for s in scores:\n",
    "        sum = sum + s\n",
    "        \n",
    "    return sum/len(scores)\n",
    "\n",
    "\n",
    "find_mean(scores)"
   ]
  },
  {
   "cell_type": "markdown",
   "metadata": {},
   "source": [
    "\n",
    "## Importing Libraries\n",
    "\n",
    "- Our end goal is to re-use as much code as possible\n",
    "- To do this we load in different Libraries using the `import` command\n",
    "- For this example we want to load in the [statistics](https://docs.python.org/3/library/statistics.html) library\n"
   ]
  },
  {
   "cell_type": "code",
   "execution_count": null,
   "metadata": {},
   "outputs": [],
   "source": [
    "import statistics\n",
    "\n",
    "print(statistics.mean(scores))\n",
    "print(statistics.median(scores))\n",
    "print(statistics.mode(scores))\n",
    "\n"
   ]
  },
  {
   "cell_type": "markdown",
   "metadata": {},
   "source": [
    "How would we use the [math](https://docs.python.org/3/library/math.html) library to find the square root of the variable called _number_ following? "
   ]
  },
  {
   "cell_type": "code",
   "execution_count": null,
   "metadata": {
    "scrolled": false
   },
   "outputs": [],
   "source": [
    "import \n",
    "\n",
    "number = 81"
   ]
  },
  {
   "cell_type": "markdown",
   "metadata": {},
   "source": [
    "We'll be focusing on data analysis for the rest of this workshop so let's import some libraries: [pandas](https://pandas.pydata.org/), [numpy](https://numpy.org) & [matplotlib](https://matplotlib.org)"
   ]
  },
  {
   "cell_type": "code",
   "execution_count": null,
   "metadata": {},
   "outputs": [],
   "source": [
    "import pandas as pd\n",
    "import numpy as np\n",
    "import matplotlib.pyplot as plt"
   ]
  },
  {
   "cell_type": "markdown",
   "metadata": {},
   "source": [
    "\n",
    "# EXERCISE: Analyzing Data\n",
    "\n",
    "We'll be exploring how to do analysis with a riff of a data set taken from [Kaggle](https://www.kaggle.com/carlolepelaars/toy-dataset/). It has been localized with Canadian Cities and shortened a tad. Let's view the [file](canadian_toy_dataset.csv)\n",
    "\n"
   ]
  },
  {
   "cell_type": "markdown",
   "metadata": {},
   "source": [
    "## Brainstorming: what questions we'd like to ask\n",
    "\n",
    "\n",
    "Let's take a look at the file and figure out what types of questions we can ask from it?\n",
    "What would we like to graph out?\n",
    "\n",
    "\n",
    "Add you thoughts to the [etherpad](http://139.57.126.30:32780/p/Python2)"
   ]
  },
  {
   "cell_type": "markdown",
   "metadata": {},
   "source": [
    "## Loading the data\n",
    "\n",
    "We'll load the data into a pandas `dataframe`. A dataframe has a lot of properties we can look into"
   ]
  },
  {
   "cell_type": "code",
   "execution_count": null,
   "metadata": {
    "scrolled": true
   },
   "outputs": [],
   "source": [
    "data = pd.read_csv(\"canadian_toy_dataset.csv\")\n",
    "data.columns = [\"city\",\"gender\",\"age\",\"income\",\"ill\"]\n",
    "data.head(5)"
   ]
  },
  {
   "cell_type": "markdown",
   "metadata": {},
   "source": [
    "## Grouping and  Counting\n",
    "\n",
    "When we want to find out how many of something is in a dataframe we use the `.count()` we also need to gather the entries we need by grouping them together with `.groupby()`. We can chain these things together to make longer more complicated enquires of the data.\n"
   ]
  },
  {
   "cell_type": "markdown",
   "metadata": {},
   "source": [
    "How many people are `ill`?"
   ]
  },
  {
   "cell_type": "code",
   "execution_count": null,
   "metadata": {
    "scrolled": true
   },
   "outputs": [],
   "source": [
    "data.groupby(\"ill\").count()"
   ]
  },
  {
   "cell_type": "markdown",
   "metadata": {},
   "source": [
    "How many people are `Male` in this dataset?"
   ]
  },
  {
   "cell_type": "code",
   "execution_count": null,
   "metadata": {},
   "outputs": [],
   "source": []
  },
  {
   "cell_type": "markdown",
   "metadata": {},
   "source": [
    "## Grouping and Averaging\n",
    "\n",
    "If we want to do some math on the data we need to cluster it together a bit. We use `.groupby()` and `.mean()` to accomplish this.\n"
   ]
  },
  {
   "cell_type": "markdown",
   "metadata": {},
   "source": [
    "What is the average income of people in `Waterloo`?"
   ]
  },
  {
   "cell_type": "code",
   "execution_count": null,
   "metadata": {
    "scrolled": false
   },
   "outputs": [],
   "source": [
    "data.groupby(\"city\")[\"income\"].mean()"
   ]
  },
  {
   "cell_type": "markdown",
   "metadata": {},
   "source": [
    "What is the average age of people in each `city`?"
   ]
  },
  {
   "cell_type": "code",
   "execution_count": null,
   "metadata": {
    "scrolled": true
   },
   "outputs": [],
   "source": []
  },
  {
   "cell_type": "markdown",
   "metadata": {},
   "source": [
    "Other useful functions to apply to dataframes:\n",
    "\n",
    "- `.max()`\n",
    "- `.min()`"
   ]
  },
  {
   "cell_type": "markdown",
   "metadata": {},
   "source": [
    "What is the minimum and maximum age seen in the data"
   ]
  },
  {
   "cell_type": "code",
   "execution_count": 144,
   "metadata": {},
   "outputs": [
    {
     "name": "stdout",
     "output_type": "stream",
     "text": [
      "65\n",
      "25\n"
     ]
    }
   ],
   "source": [
    "print(data[\"age\"].max())\n",
    "print(data[\"age\"].min())"
   ]
  },
  {
   "cell_type": "markdown",
   "metadata": {},
   "source": [
    "What is the maximum and minimum age seen in the data set?"
   ]
  },
  {
   "cell_type": "code",
   "execution_count": null,
   "metadata": {},
   "outputs": [],
   "source": []
  },
  {
   "cell_type": "markdown",
   "metadata": {},
   "source": [
    "# Sorting"
   ]
  },
  {
   "cell_type": "markdown",
   "metadata": {},
   "source": [
    "We can apply sorting to our dataframe actions by adding `.sort_value()` to the end of our count and average statements and telling it what `column` to sort by with the added statement `by = \"column\"`."
   ]
  },
  {
   "cell_type": "markdown",
   "metadata": {},
   "source": [
    "What city has the most `ill` people?"
   ]
  },
  {
   "cell_type": "code",
   "execution_count": null,
   "metadata": {},
   "outputs": [],
   "source": [
    "data.groupby(\"city\").count().sort_values(by = \"ill\",ascending = False)"
   ]
  },
  {
   "cell_type": "markdown",
   "metadata": {},
   "source": [
    "What city has the highest average income?"
   ]
  },
  {
   "cell_type": "code",
   "execution_count": null,
   "metadata": {
    "scrolled": false
   },
   "outputs": [],
   "source": [
    "data.groupby(\"city\").mean().sort_values(by = \"income\", ascending = False)"
   ]
  },
  {
   "cell_type": "markdown",
   "metadata": {},
   "source": [
    "## Unique entries\n",
    "\n",
    "Here we use `.unique()` to only give the first instances of the item. Results are returned as a list, which is useful for us later"
   ]
  },
  {
   "cell_type": "code",
   "execution_count": null,
   "metadata": {
    "scrolled": true
   },
   "outputs": [],
   "source": [
    "data[\"city\"].unique()"
   ]
  },
  {
   "cell_type": "markdown",
   "metadata": {},
   "source": [
    "What are unique values for the `Age` field?"
   ]
  },
  {
   "cell_type": "code",
   "execution_count": null,
   "metadata": {
    "scrolled": true
   },
   "outputs": [],
   "source": []
  },
  {
   "cell_type": "markdown",
   "metadata": {},
   "source": [
    "## Values Counts"
   ]
  },
  {
   "cell_type": "markdown",
   "metadata": {},
   "source": [
    "This will give you the values associated with the unique values that are seen in a column"
   ]
  },
  {
   "cell_type": "code",
   "execution_count": null,
   "metadata": {
    "scrolled": true
   },
   "outputs": [],
   "source": [
    "data[\"city\"].value_counts()"
   ]
  },
  {
   "cell_type": "markdown",
   "metadata": {},
   "source": [
    "## Making selections into List\n",
    "\n",
    "We add `.tolist()` to end of selections to get lists of the results. Useful for making graphs, as we'll see later."
   ]
  },
  {
   "cell_type": "code",
   "execution_count": null,
   "metadata": {
    "scrolled": true
   },
   "outputs": [],
   "source": [
    "data[\"city\"].value_counts().tolist()"
   ]
  },
  {
   "cell_type": "markdown",
   "metadata": {},
   "source": [
    "## Selecting subsets of data\n",
    "\n",
    "To make life easier we can create dataframes that just have the values we are interested in\n",
    "\n",
    "Say we want to make a dataframe of only those that are `ill` we'd do the following:"
   ]
  },
  {
   "cell_type": "code",
   "execution_count": null,
   "metadata": {
    "scrolled": true
   },
   "outputs": [],
   "source": [
    "ill_people = data[data['ill'] == \"Yes\"]\n",
    "ill_people"
   ]
  },
  {
   "cell_type": "markdown",
   "metadata": {},
   "source": [
    "Can you make a new dataframe that just has people from `Waterloo` in it. Display the first 5 entries."
   ]
  },
  {
   "cell_type": "markdown",
   "metadata": {},
   "source": [
    "waterloo_people = \n"
   ]
  },
  {
   "cell_type": "markdown",
   "metadata": {},
   "source": [
    "With our `ill_people` dataframe how can we find out how many people are `ill` in each city. \n",
    "\n",
    "*Hint:* we can use `.groupby()` and `.count()` to do this"
   ]
  },
  {
   "cell_type": "code",
   "execution_count": null,
   "metadata": {
    "scrolled": false
   },
   "outputs": [],
   "source": []
  },
  {
   "cell_type": "markdown",
   "metadata": {},
   "source": [
    "Can we sort our previous results? We can use the `.sort()` to accomplish this"
   ]
  },
  {
   "cell_type": "code",
   "execution_count": null,
   "metadata": {},
   "outputs": [],
   "source": []
  },
  {
   "cell_type": "markdown",
   "metadata": {},
   "source": [
    "## Putting more pieces together\n",
    "\n",
    "We can put all of these calculations together to ask more complex questions of the data.\n",
    "\n"
   ]
  },
  {
   "cell_type": "markdown",
   "metadata": {},
   "source": [
    "How many people are `ill` and above the average age of all people in the data set?"
   ]
  },
  {
   "cell_type": "code",
   "execution_count": null,
   "metadata": {},
   "outputs": [],
   "source": [
    "average_age = 45\n",
    "\n",
    "above_average_ill = ill_people[ill_people['age'] > average_age]['ill'].count()\n",
    "\n",
    "print(above_average_ill)"
   ]
  },
  {
   "cell_type": "markdown",
   "metadata": {},
   "source": [
    "What percentage of the above average age people are `ill`?"
   ]
  },
  {
   "cell_type": "markdown",
   "metadata": {},
   "source": [
    "\n",
    "total_ill =\n",
    "\n",
    "(above_average_ill / total_ill ) * 100\n"
   ]
  },
  {
   "cell_type": "markdown",
   "metadata": {},
   "source": [
    "## Graphing Results\n",
    "\n",
    "We can use the `matplotlib` library to generate some graphs of our results\n",
    "\n",
    "## Pie Graphs\n",
    "Let's draw a pie graph of the number of people that are `ill` as a proportion of everyone"
   ]
  },
  {
   "cell_type": "code",
   "execution_count": null,
   "metadata": {
    "scrolled": false
   },
   "outputs": [],
   "source": [
    "\n",
    "total_ill_people = ill_people.count()['ill']\n",
    "total_people = data.count()['ill']\n",
    "\n",
    "\n",
    "# Matplot lib always wants data in a list, so we'll make one\n",
    "pie_data = [total_ill_people,total_people]\n",
    "\n",
    "\n",
    "plt.pie(pie_data)\n",
    "plt.show()"
   ]
  },
  {
   "cell_type": "markdown",
   "metadata": {},
   "source": [
    "Say we want to add some more details to our pie graph, like `labels` and a `title`"
   ]
  },
  {
   "cell_type": "code",
   "execution_count": null,
   "metadata": {},
   "outputs": [],
   "source": [
    "pie_data = [total_ill_people,total_people]\n",
    "lables = [\"Total Ill People\",\"Total People\"]\n",
    "\n",
    "plt.pie(pie_data,labels=lables)\n",
    "plt.title(\"Percentage of people who are ill\")\n",
    "plt.show()"
   ]
  },
  {
   "cell_type": "markdown",
   "metadata": {},
   "source": [
    "Can you create a pie graph that shows the gender balance of who is `ill`?"
   ]
  },
  {
   "cell_type": "code",
   "execution_count": null,
   "metadata": {},
   "outputs": [],
   "source": [
    "# Hint: you'll need to select and count\n",
    "\n",
    "females_ill = \n",
    "males_ill = \n",
    "\n",
    "pie_data = [females_ill,males_ill]\n",
    "lables = [\"Females\",\"Males\"]\n",
    "\n",
    "plt.pie(pie_data,labels=lables)\n",
    "plt.title(\"Gender distibution of those ill\")\n",
    "plt.show()"
   ]
  },
  {
   "cell_type": "markdown",
   "metadata": {},
   "source": [
    "## Automatic Histograms\n",
    "\n",
    "\n",
    "Say we wanted to plot out the income distribution of our data set"
   ]
  },
  {
   "cell_type": "code",
   "execution_count": null,
   "metadata": {
    "scrolled": false
   },
   "outputs": [],
   "source": [
    "plt.hist(data[\"income\"])\n",
    "plt.show()"
   ]
  },
  {
   "cell_type": "markdown",
   "metadata": {},
   "source": [
    "Let's add some labels to our axes"
   ]
  },
  {
   "cell_type": "code",
   "execution_count": null,
   "metadata": {
    "scrolled": false
   },
   "outputs": [],
   "source": [
    "plt.hist(data[\"income\"])\n",
    "\n",
    "plt.title(\"Income distribution\")\n",
    "plt.xlabel(\"Income\")\n",
    "plt.show()"
   ]
  },
  {
   "cell_type": "markdown",
   "metadata": {},
   "source": [
    "Can you draw a histogram of the age distribution? Make sure to give it a `title` and a good `xlabel`"
   ]
  },
  {
   "cell_type": "code",
   "execution_count": null,
   "metadata": {
    "scrolled": true
   },
   "outputs": [],
   "source": []
  },
  {
   "cell_type": "markdown",
   "metadata": {},
   "source": [
    "## Bar Graphs\n",
    "\n",
    "Let's try to draw how many people are `ill` in each city"
   ]
  },
  {
   "cell_type": "code",
   "execution_count": null,
   "metadata": {
    "scrolled": true
   },
   "outputs": [],
   "source": [
    "\n",
    "ill_by_city = ill_people['city'].value_counts().tolist()\n",
    "cities = ill_people.city.unique()\n",
    "   \n",
    "plt.bar(cities, ill_by_city)\n",
    "plt.show()\n"
   ]
  },
  {
   "cell_type": "markdown",
   "metadata": {},
   "source": [
    "# Bringing it all together\n",
    "\n",
    "Can you make a dataframe of people who are not `ill` and graph them based on what city they are in. Some of the work is written out for you\n"
   ]
  },
  {
   "cell_type": "code",
   "execution_count": null,
   "metadata": {},
   "outputs": [],
   "source": [
    "\n",
    "healthy_people = data\n",
    "\n",
    "healthy_people_by_city = \n",
    "cities = health_people.city.unique()\n",
    "\n",
    "plt.bar()\n",
    "plt.title()\n",
    "plt.show()"
   ]
  }
 ],
 "metadata": {
  "kernelspec": {
   "display_name": "Python 3",
   "language": "python",
   "name": "python3"
  },
  "language_info": {
   "codemirror_mode": {
    "name": "ipython",
    "version": 3
   },
   "file_extension": ".py",
   "mimetype": "text/x-python",
   "name": "python",
   "nbconvert_exporter": "python",
   "pygments_lexer": "ipython3",
   "version": "3.6.4"
  }
 },
 "nbformat": 4,
 "nbformat_minor": 2
}
