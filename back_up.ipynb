{
 "cells": [
  {
   "cell_type": "markdown",
   "metadata": {},
   "source": [
    "![DSL_logo](dsl_logo.png)\n",
    "\n",
    "\n",
    "# Python 2.0!\n",
    "\n",
    "Welcome to the Digital Scholarship Lab Level 2 Python workshop. Before proceeding please make sure you've completed [part 1](https://brockdsl.github.io/Intro_to_Python_Workshop/) \n",
    "\n",
    "Which covers:\n",
    "- variables\n",
    "- math\n",
    "- conditional\n",
    "- loops\n",
    "- functions\n",
    "\n",
    "\n",
    "What we'll learn today is:\n",
    "- importing libraries\n",
    "- analyzing data with pandas\n",
    "- plotting data with matplot lib\n",
    "\n",
    "\n",
    "We'll be using Python as a Data Analysis tool\n",
    "This is how the [Kaggle](https://kaggle.com) website works\n"
   ]
  },
  {
   "cell_type": "markdown",
   "metadata": {},
   "source": [
    "\n",
    "Before we get going the next cell should look totally familar to you"
   ]
  },
  {
   "cell_type": "code",
   "execution_count": null,
   "metadata": {},
   "outputs": [],
   "source": [
    "scores = [3,5,6,2,1,6]\n",
    "\n",
    "def find_mean(scores):\n",
    "    \n",
    "    sum = 0\n",
    "    for s in scores:\n",
    "        sum = sum + s\n",
    "        \n",
    "    return sum/len(scores)\n",
    "\n",
    "\n",
    "print(find_mean(scores))"
   ]
  },
  {
   "cell_type": "markdown",
   "metadata": {},
   "source": [
    "----\n",
    "\n",
    "## Importing Libraries\n",
    "\n",
    "- Our end goal is to re-use as much code as possible\n",
    "- To do this we load in different Libraries using the `import` command\n",
    "- For this example we want to load in the [statistics](https://docs.python.org/3/library/statistics.html) library\n"
   ]
  },
  {
   "cell_type": "code",
   "execution_count": null,
   "metadata": {},
   "outputs": [],
   "source": [
    "import statistics\n",
    "\n",
    "print(statistics.mean(scores))\n",
    "print(statistics.median(scores))\n",
    "print(statistics.mode(scores))\n"
   ]
  },
  {
   "cell_type": "markdown",
   "metadata": {},
   "source": [
    "- Try Q1 - Q2 below and type \"Got it\" in the chat when you are done."
   ]
  },
  {
   "cell_type": "markdown",
   "metadata": {},
   "source": [
    "- **Q1** How would we use the [math](https://docs.python.org/3/library/math.html) library to find the square root of the variable called _number_ following? "
   ]
  },
  {
   "cell_type": "code",
   "execution_count": null,
   "metadata": {
    "scrolled": false
   },
   "outputs": [],
   "source": [
    "import \n",
    "\n",
    "number = 81\n",
    "\n",
    "print(number)"
   ]
  },
  {
   "cell_type": "markdown",
   "metadata": {},
   "source": [
    "- **Q2** The `str` library is so important that it is included all the time Python runs. Try to Print to the screen the all of the lower case letters [str](https://docs.python.org/3/library/string.html) knows about. "
   ]
  },
  {
   "cell_type": "code",
   "execution_count": null,
   "metadata": {},
   "outputs": [],
   "source": [
    "print()"
   ]
  },
  {
   "cell_type": "markdown",
   "metadata": {},
   "source": [
    "\n",
    "# EXERCISE: Analyzing Data\n",
    "\n",
    "![sick](https://upload.wikimedia.org/wikipedia/commons/9/97/Caladrius2.jpg)\n",
    "\n",
    "We'll be focusing on data analysis for the rest of this workshop so let's import some libraries: [pandas](https://pandas.pydata.org/), [numpy](https://numpy.org) & [matplotlib](https://matplotlib.org)\n",
    "\n",
    "We'll be exploring how to do analysis with a riff of a data set taken from [Kaggle](https://www.kaggle.com/carlolepelaars/toy-dataset/). It has been localized with Canadian Cities and shortened a tad. Let's view the [file](canadian_toy_dataset.csv)\n",
    "\n",
    "The data has 5 columns\n",
    "- _City_ is a Canadian Cities\n",
    "- _Gender_ is the self reported gender of the person\n",
    "- _Age_ is a integer that represents how old the person in in the record is\n",
    "- _Income_ the annual salary of the person as an integer\n",
    "- _ill_ a 'Yes' or 'No' to indicate if the person is suffering from our mystery illness\n",
    "\n",
    "We want to explore the data to determine if we can find out if we can predict if a person is sick based on different factors.\n"
   ]
  },
  {
   "cell_type": "markdown",
   "metadata": {},
   "source": [
    "To get everything ready we need to load the following cell"
   ]
  },
  {
   "cell_type": "code",
   "execution_count": 9,
   "metadata": {},
   "outputs": [],
   "source": [
    "#This line is for Jupyter's benefit\n",
    "%matplotlib inline\n",
    "\n",
    "#Load the Library Pandas, that works with data\n",
    "import pandas as pd\n",
    "\n",
    "#Load the Library Numpy, that works with numerical calculations\n",
    "import numpy as np\n",
    "\n",
    "#Import MayPlotLib to graph some results\n",
    "import matplotlib.pyplot as plt"
   ]
  },
  {
   "cell_type": "markdown",
   "metadata": {},
   "source": [
    "- **Q3** What types of questions might we want to ask from the data? Provides some ideas in the Zoom chat box\n"
   ]
  },
  {
   "cell_type": "markdown",
   "metadata": {},
   "source": [
    "## Loading the data\n",
    "\n",
    "We'll load the data into a pandas `dataframe`. A dataframe has a lot of properties we can look into"
   ]
  },
  {
   "cell_type": "code",
   "execution_count": 13,
   "metadata": {
    "scrolled": false
   },
   "outputs": [
    {
     "data": {
      "text/html": [
       "<div>\n",
       "<style scoped>\n",
       "    .dataframe tbody tr th:only-of-type {\n",
       "        vertical-align: middle;\n",
       "    }\n",
       "\n",
       "    .dataframe tbody tr th {\n",
       "        vertical-align: top;\n",
       "    }\n",
       "\n",
       "    .dataframe thead th {\n",
       "        text-align: right;\n",
       "    }\n",
       "</style>\n",
       "<table border=\"1\" class=\"dataframe\">\n",
       "  <thead>\n",
       "    <tr style=\"text-align: right;\">\n",
       "      <th></th>\n",
       "      <th>city</th>\n",
       "      <th>gender</th>\n",
       "      <th>age</th>\n",
       "      <th>income</th>\n",
       "      <th>ill</th>\n",
       "    </tr>\n",
       "  </thead>\n",
       "  <tbody>\n",
       "    <tr>\n",
       "      <td>0</td>\n",
       "      <td>Montreal</td>\n",
       "      <td>Male</td>\n",
       "      <td>41</td>\n",
       "      <td>40367</td>\n",
       "      <td>No</td>\n",
       "    </tr>\n",
       "    <tr>\n",
       "      <td>1</td>\n",
       "      <td>Montreal</td>\n",
       "      <td>Male</td>\n",
       "      <td>54</td>\n",
       "      <td>45084</td>\n",
       "      <td>No</td>\n",
       "    </tr>\n",
       "    <tr>\n",
       "      <td>2</td>\n",
       "      <td>Montreal</td>\n",
       "      <td>Male</td>\n",
       "      <td>42</td>\n",
       "      <td>52483</td>\n",
       "      <td>No</td>\n",
       "    </tr>\n",
       "    <tr>\n",
       "      <td>3</td>\n",
       "      <td>Montreal</td>\n",
       "      <td>Male</td>\n",
       "      <td>40</td>\n",
       "      <td>40941</td>\n",
       "      <td>No</td>\n",
       "    </tr>\n",
       "    <tr>\n",
       "      <td>4</td>\n",
       "      <td>Montreal</td>\n",
       "      <td>Male</td>\n",
       "      <td>46</td>\n",
       "      <td>50289</td>\n",
       "      <td>No</td>\n",
       "    </tr>\n",
       "    <tr>\n",
       "      <td>5</td>\n",
       "      <td>Montreal</td>\n",
       "      <td>Female</td>\n",
       "      <td>36</td>\n",
       "      <td>50786</td>\n",
       "      <td>No</td>\n",
       "    </tr>\n",
       "    <tr>\n",
       "      <td>6</td>\n",
       "      <td>Montreal</td>\n",
       "      <td>Female</td>\n",
       "      <td>32</td>\n",
       "      <td>33155</td>\n",
       "      <td>No</td>\n",
       "    </tr>\n",
       "    <tr>\n",
       "      <td>7</td>\n",
       "      <td>Montreal</td>\n",
       "      <td>Male</td>\n",
       "      <td>39</td>\n",
       "      <td>30914</td>\n",
       "      <td>No</td>\n",
       "    </tr>\n",
       "    <tr>\n",
       "      <td>8</td>\n",
       "      <td>Montreal</td>\n",
       "      <td>Male</td>\n",
       "      <td>51</td>\n",
       "      <td>68667</td>\n",
       "      <td>No</td>\n",
       "    </tr>\n",
       "    <tr>\n",
       "      <td>9</td>\n",
       "      <td>Montreal</td>\n",
       "      <td>Female</td>\n",
       "      <td>30</td>\n",
       "      <td>50082</td>\n",
       "      <td>No</td>\n",
       "    </tr>\n",
       "  </tbody>\n",
       "</table>\n",
       "</div>"
      ],
      "text/plain": [
       "       city  gender  age  income ill\n",
       "0  Montreal    Male   41   40367  No\n",
       "1  Montreal    Male   54   45084  No\n",
       "2  Montreal    Male   42   52483  No\n",
       "3  Montreal    Male   40   40941  No\n",
       "4  Montreal    Male   46   50289  No\n",
       "5  Montreal  Female   36   50786  No\n",
       "6  Montreal  Female   32   33155  No\n",
       "7  Montreal    Male   39   30914  No\n",
       "8  Montreal    Male   51   68667  No\n",
       "9  Montreal  Female   30   50082  No"
      ]
     },
     "execution_count": 13,
     "metadata": {},
     "output_type": "execute_result"
    }
   ],
   "source": [
    "#Load the file\n",
    "data = pd.read_csv(\"https://brockdsl.github.io/Python_2.0_Workshop/canadian_toy_dataset.csv\")\n",
    "\n",
    "#Tell it what our columns are\n",
    "data.columns = [\"city\",\"gender\",\"age\",\"income\",\"ill\"]\n",
    "\n",
    "#Show the first 5 lines\n",
    "data.head(10)"
   ]
  },
  {
   "cell_type": "code",
   "execution_count": 14,
   "metadata": {},
   "outputs": [
    {
     "data": {
      "text/html": [
       "<div>\n",
       "<style scoped>\n",
       "    .dataframe tbody tr th:only-of-type {\n",
       "        vertical-align: middle;\n",
       "    }\n",
       "\n",
       "    .dataframe tbody tr th {\n",
       "        vertical-align: top;\n",
       "    }\n",
       "\n",
       "    .dataframe thead th {\n",
       "        text-align: right;\n",
       "    }\n",
       "</style>\n",
       "<table border=\"1\" class=\"dataframe\">\n",
       "  <thead>\n",
       "    <tr style=\"text-align: right;\">\n",
       "      <th></th>\n",
       "      <th>age</th>\n",
       "      <th>income</th>\n",
       "    </tr>\n",
       "  </thead>\n",
       "  <tbody>\n",
       "    <tr>\n",
       "      <td>count</td>\n",
       "      <td>150000.000000</td>\n",
       "      <td>150000.000000</td>\n",
       "    </tr>\n",
       "    <tr>\n",
       "      <td>mean</td>\n",
       "      <td>44.950200</td>\n",
       "      <td>91252.798273</td>\n",
       "    </tr>\n",
       "    <tr>\n",
       "      <td>std</td>\n",
       "      <td>11.572486</td>\n",
       "      <td>24989.500948</td>\n",
       "    </tr>\n",
       "    <tr>\n",
       "      <td>min</td>\n",
       "      <td>25.000000</td>\n",
       "      <td>-654.000000</td>\n",
       "    </tr>\n",
       "    <tr>\n",
       "      <td>25%</td>\n",
       "      <td>35.000000</td>\n",
       "      <td>80867.750000</td>\n",
       "    </tr>\n",
       "    <tr>\n",
       "      <td>50%</td>\n",
       "      <td>45.000000</td>\n",
       "      <td>93655.000000</td>\n",
       "    </tr>\n",
       "    <tr>\n",
       "      <td>75%</td>\n",
       "      <td>55.000000</td>\n",
       "      <td>104519.000000</td>\n",
       "    </tr>\n",
       "    <tr>\n",
       "      <td>max</td>\n",
       "      <td>65.000000</td>\n",
       "      <td>177157.000000</td>\n",
       "    </tr>\n",
       "  </tbody>\n",
       "</table>\n",
       "</div>"
      ],
      "text/plain": [
       "                 age         income\n",
       "count  150000.000000  150000.000000\n",
       "mean       44.950200   91252.798273\n",
       "std        11.572486   24989.500948\n",
       "min        25.000000    -654.000000\n",
       "25%        35.000000   80867.750000\n",
       "50%        45.000000   93655.000000\n",
       "75%        55.000000  104519.000000\n",
       "max        65.000000  177157.000000"
      ]
     },
     "execution_count": 14,
     "metadata": {},
     "output_type": "execute_result"
    }
   ],
   "source": [
    "#A quantitative summary of the dataframe\n",
    "\n",
    "data.describe()"
   ]
  },
  {
   "cell_type": "markdown",
   "metadata": {},
   "source": [
    "# Asking question from the data\n",
    "\n",
    "Dataframes are great because we can ask for more complicated data and analysis and get they'll do the hard work for us"
   ]
  },
  {
   "cell_type": "markdown",
   "metadata": {},
   "source": [
    "## Counting\n",
    "\n",
    "When we want to find out how many of something is in a dataframe we use the `.count()` function."
   ]
  },
  {
   "cell_type": "markdown",
   "metadata": {},
   "source": [
    "How many records are in the dataset?"
   ]
  },
  {
   "cell_type": "code",
   "execution_count": null,
   "metadata": {},
   "outputs": [],
   "source": [
    "data.count()"
   ]
  },
  {
   "cell_type": "markdown",
   "metadata": {},
   "source": [
    "## Grouping and  Counting\n",
    "\n",
    "We also need to gather the entries we need by grouping them together with the `.groupby()` function. We can chain these things together to make longer more complicated enquires of the data.\n",
    "\n",
    "*NB:* Grouping a dataframe will cause a new index to be applied\n"
   ]
  },
  {
   "cell_type": "markdown",
   "metadata": {},
   "source": [
    "How many people are `ill`?"
   ]
  },
  {
   "cell_type": "code",
   "execution_count": null,
   "metadata": {
    "scrolled": false
   },
   "outputs": [],
   "source": [
    "data.groupby(\"ill\").count()"
   ]
  },
  {
   "cell_type": "markdown",
   "metadata": {},
   "source": [
    "How many people are `Male` in this dataset?"
   ]
  },
  {
   "cell_type": "code",
   "execution_count": null,
   "metadata": {},
   "outputs": [],
   "source": []
  },
  {
   "cell_type": "markdown",
   "metadata": {},
   "source": [
    "## Grouping and Averaging\n",
    "\n",
    "If we want to do some math on the data we need to cluster it together a bit. We use `.groupby()` and `.mean()` to accomplish this.\n"
   ]
  },
  {
   "cell_type": "markdown",
   "metadata": {},
   "source": [
    "What is the average income of people in `Waterloo`?"
   ]
  },
  {
   "cell_type": "code",
   "execution_count": null,
   "metadata": {
    "scrolled": false
   },
   "outputs": [],
   "source": [
    "data.groupby(\"city\")[\"income\"].mean()"
   ]
  },
  {
   "cell_type": "markdown",
   "metadata": {},
   "source": [
    "What is the average age of people in each `city`?"
   ]
  },
  {
   "cell_type": "code",
   "execution_count": null,
   "metadata": {
    "scrolled": true
   },
   "outputs": [],
   "source": []
  },
  {
   "cell_type": "markdown",
   "metadata": {},
   "source": [
    "Other useful functions to apply to dataframes:\n",
    "\n",
    "- `.max()`\n",
    "- `.min()`"
   ]
  },
  {
   "cell_type": "markdown",
   "metadata": {},
   "source": [
    "What is the minimum and maximum age seen in the data"
   ]
  },
  {
   "cell_type": "code",
   "execution_count": null,
   "metadata": {},
   "outputs": [],
   "source": [
    "print(data[\"age\"].max())\n",
    "print(data[\"age\"].min())"
   ]
  },
  {
   "cell_type": "markdown",
   "metadata": {},
   "source": [
    "What is the maximum and minimum income seen in the data set?"
   ]
  },
  {
   "cell_type": "code",
   "execution_count": null,
   "metadata": {},
   "outputs": [],
   "source": []
  },
  {
   "cell_type": "markdown",
   "metadata": {},
   "source": [
    "# Sorting"
   ]
  },
  {
   "cell_type": "markdown",
   "metadata": {},
   "source": [
    "We can apply sorting to our dataframe actions by adding `.sort_values()` to the end of our count and average statements and telling it what `column` to sort by with the added statement `by = \"column\"`."
   ]
  },
  {
   "cell_type": "markdown",
   "metadata": {},
   "source": [
    "What city has the most `ill` people?"
   ]
  },
  {
   "cell_type": "code",
   "execution_count": null,
   "metadata": {},
   "outputs": [],
   "source": [
    "data.groupby(\"city\").count().sort_values(by = \"ill\",ascending = False)"
   ]
  },
  {
   "cell_type": "markdown",
   "metadata": {},
   "source": [
    "Answer:"
   ]
  },
  {
   "cell_type": "markdown",
   "metadata": {},
   "source": [
    "What city has the highest average income?"
   ]
  },
  {
   "cell_type": "code",
   "execution_count": null,
   "metadata": {
    "scrolled": false
   },
   "outputs": [],
   "source": [
    "data.groupby(\"\").mean().sort_values(by = \"\", ascending = False) #FIX"
   ]
  },
  {
   "cell_type": "markdown",
   "metadata": {},
   "source": [
    "Answer: "
   ]
  },
  {
   "cell_type": "markdown",
   "metadata": {},
   "source": [
    "What city has the oldest people?"
   ]
  },
  {
   "cell_type": "code",
   "execution_count": null,
   "metadata": {},
   "outputs": [],
   "source": []
  },
  {
   "cell_type": "markdown",
   "metadata": {},
   "source": [
    "Answer:"
   ]
  },
  {
   "cell_type": "markdown",
   "metadata": {},
   "source": [
    "## Unique entries\n",
    "\n",
    "Here we use `.unique()` to only give the first instances of the item. Results are returned as a list, which is useful for us later"
   ]
  },
  {
   "cell_type": "code",
   "execution_count": null,
   "metadata": {
    "scrolled": true
   },
   "outputs": [],
   "source": [
    "data[\"city\"].unique()"
   ]
  },
  {
   "cell_type": "markdown",
   "metadata": {},
   "source": [
    "What are unique values for the `age` field?"
   ]
  },
  {
   "cell_type": "code",
   "execution_count": null,
   "metadata": {
    "scrolled": true
   },
   "outputs": [],
   "source": []
  },
  {
   "cell_type": "markdown",
   "metadata": {},
   "source": [
    "What are unique values are in the `income` field?"
   ]
  },
  {
   "cell_type": "code",
   "execution_count": null,
   "metadata": {},
   "outputs": [],
   "source": []
  },
  {
   "cell_type": "markdown",
   "metadata": {},
   "source": [
    "That's a lot of text on the screen... How can we find the number?"
   ]
  },
  {
   "cell_type": "code",
   "execution_count": null,
   "metadata": {},
   "outputs": [],
   "source": []
  },
  {
   "cell_type": "markdown",
   "metadata": {},
   "source": [
    "## Values Counts"
   ]
  },
  {
   "cell_type": "markdown",
   "metadata": {},
   "source": [
    "This will give you the values associated with the unique values that are seen in a column"
   ]
  },
  {
   "cell_type": "code",
   "execution_count": null,
   "metadata": {
    "scrolled": true
   },
   "outputs": [],
   "source": [
    "data[\"city\"].value_counts()"
   ]
  },
  {
   "cell_type": "markdown",
   "metadata": {},
   "source": [
    "## Selecting subsets of data\n",
    "\n",
    "To make life easier we can create dataframes that just have the values we are interested in\n",
    "This is a bit more complicated but follows this type of pattern:\n",
    "\n",
    "`dataframe[dataframe[search criteria]`\n",
    "\n",
    "We are basically getting subselecting the dataframe with `search criteria`,\n",
    "that search criteria can be any that is a conditional\n"
   ]
  },
  {
   "cell_type": "markdown",
   "metadata": {},
   "source": [
    "EG. People with an income over $100000"
   ]
  },
  {
   "cell_type": "code",
   "execution_count": null,
   "metadata": {
    "scrolled": true
   },
   "outputs": [],
   "source": [
    "data[data[\"income\"] > 100000]"
   ]
  },
  {
   "cell_type": "markdown",
   "metadata": {},
   "source": [
    "If we want we can put this selection in a new dataframe.\n",
    "\n",
    "Eg. We make a dataframe of only those that are `ill` we'd do the following:"
   ]
  },
  {
   "cell_type": "code",
   "execution_count": null,
   "metadata": {
    "scrolled": true
   },
   "outputs": [],
   "source": [
    "ill_people = data[data['ill'] == \"Yes\"]\n",
    "ill_people"
   ]
  },
  {
   "cell_type": "markdown",
   "metadata": {},
   "source": [
    "Can you make a new dataframe that just has people from `Waterloo` in it. Display the first 5 entries."
   ]
  },
  {
   "cell_type": "code",
   "execution_count": null,
   "metadata": {},
   "outputs": [],
   "source": [
    "waterloo_people = \n"
   ]
  },
  {
   "cell_type": "markdown",
   "metadata": {},
   "source": [
    "# Some questions now"
   ]
  },
  {
   "cell_type": "markdown",
   "metadata": {},
   "source": [
    "With our `ill_people` dataframe how can we find out how many people are `ill` in each city. \n",
    "\n",
    "*Hint:* we can use `.groupby()` and `.count()` to do this"
   ]
  },
  {
   "cell_type": "code",
   "execution_count": null,
   "metadata": {
    "scrolled": true
   },
   "outputs": [],
   "source": []
  },
  {
   "cell_type": "markdown",
   "metadata": {},
   "source": [
    "Can we sort our previous results? We can use the `.sort_values()` to accomplish this"
   ]
  },
  {
   "cell_type": "code",
   "execution_count": null,
   "metadata": {},
   "outputs": [],
   "source": []
  },
  {
   "cell_type": "markdown",
   "metadata": {},
   "source": [
    "What percentage of people in the dataset have a salary over $100000"
   ]
  },
  {
   "cell_type": "code",
   "execution_count": null,
   "metadata": {},
   "outputs": [],
   "source": []
  },
  {
   "cell_type": "markdown",
   "metadata": {},
   "source": [
    "What is the average age of people that are ill?"
   ]
  },
  {
   "cell_type": "code",
   "execution_count": null,
   "metadata": {},
   "outputs": [],
   "source": []
  },
  {
   "cell_type": "markdown",
   "metadata": {},
   "source": [
    "What is the average salary of those that are ill?"
   ]
  },
  {
   "cell_type": "code",
   "execution_count": null,
   "metadata": {},
   "outputs": [],
   "source": []
  },
  {
   "cell_type": "markdown",
   "metadata": {},
   "source": [
    "What is the average salary of those that are not ill?"
   ]
  },
  {
   "cell_type": "code",
   "execution_count": null,
   "metadata": {},
   "outputs": [],
   "source": []
  },
  {
   "cell_type": "markdown",
   "metadata": {},
   "source": [
    "# Graphing Results\n",
    "\n",
    "We can use the `matplotlib` library to generate some graphs of our results. We always gives lists as parameters for the graphs\n",
    "\n",
    "## Pie Graphs\n",
    "Let's draw a pie graph of the number of people that are `ill` as a proportion of everyone"
   ]
  },
  {
   "cell_type": "code",
   "execution_count": null,
   "metadata": {
    "scrolled": false
   },
   "outputs": [],
   "source": [
    "\n",
    "total_ill_people = ill_people.count()['ill']\n",
    "total_people = data.count()['ill']\n",
    "\n",
    "\n",
    "# Matplot lib always wants data in a list, so we'll make one\n",
    "pie_data = [total_ill_people,total_people]\n",
    "\n",
    "\n",
    "plt.pie(pie_data)\n",
    "plt.show()"
   ]
  },
  {
   "cell_type": "markdown",
   "metadata": {},
   "source": [
    "Say we want to add some more details to our pie graph, like `labels` and a `title`"
   ]
  },
  {
   "cell_type": "code",
   "execution_count": null,
   "metadata": {},
   "outputs": [],
   "source": [
    "pie_data = [total_ill_people,total_people]\n",
    "lables = [\"Total Ill People\",\"Total People\"]\n",
    "\n",
    "plt.pie(pie_data,labels=lables)\n",
    "plt.title(\"Percentage of people who are ill\")\n",
    "plt.show()"
   ]
  },
  {
   "cell_type": "markdown",
   "metadata": {},
   "source": [
    "Can you create a pie graph that shows the gender balance of who is `ill`?"
   ]
  },
  {
   "cell_type": "code",
   "execution_count": null,
   "metadata": {},
   "outputs": [],
   "source": [
    "# Hint: you'll need to select and count\n",
    "\n",
    "females_ill = #FILL\n",
    "males_ill = #FILL\n",
    "\n",
    "pie_data = [females_ill,males_ill]\n",
    "lables = [\"Females\",\"Males\"]\n",
    "\n",
    "plt.pie(pie_data,labels=lables)\n",
    "plt.title(\"Gender distibution of those ill\")\n",
    "plt.show()"
   ]
  },
  {
   "cell_type": "markdown",
   "metadata": {},
   "source": [
    "## Automatic Histograms\n",
    "\n",
    "\n",
    "Say we wanted to plot out the income distribution of our data set as a [historgram](https://en.wikipedia.org/wiki/Histogram) "
   ]
  },
  {
   "cell_type": "code",
   "execution_count": null,
   "metadata": {
    "scrolled": true
   },
   "outputs": [],
   "source": [
    "# this represents how many pieces we want to chop our series into, more bins has a higher resolution\n",
    "bins = 250\n",
    "\n",
    "plt.hist(data[\"income\"],bins)\n",
    "plt.show()"
   ]
  },
  {
   "cell_type": "markdown",
   "metadata": {},
   "source": [
    "Let's add some labels to our axes"
   ]
  },
  {
   "cell_type": "code",
   "execution_count": null,
   "metadata": {
    "scrolled": true
   },
   "outputs": [],
   "source": [
    "# this represents how many pieces we want to chop our series into, more bins has a higher resolution\n",
    "bins = 250\n",
    "\n",
    "plt.hist(data[\"income\"],bins)\n",
    "\n",
    "plt.title(\"Income distribution\")\n",
    "plt.xlabel(\"Income\")\n",
    "\n",
    "plt.show()"
   ]
  },
  {
   "cell_type": "markdown",
   "metadata": {},
   "source": [
    "Can you draw a histogram of the `age` distribution? Make sure to give it a `title` and a good `xlabel` and use an appropriate number of bins"
   ]
  },
  {
   "cell_type": "code",
   "execution_count": null,
   "metadata": {
    "scrolled": true
   },
   "outputs": [],
   "source": [
    "bins = #FILL\n",
    "\n",
    "plt.hist() #FILL\n",
    "plt.title() #FILL\n",
    "plt.xlabel() #FILL\n",
    "\n",
    "plt.show()"
   ]
  },
  {
   "cell_type": "markdown",
   "metadata": {},
   "source": [
    "# Congrats!\n",
    "\n",
    "You now know a bit about Python Libraries and using advance features of the Language\n"
   ]
  },
  {
   "cell_type": "code",
   "execution_count": null,
   "metadata": {},
   "outputs": [],
   "source": []
  }
 ],
 "metadata": {
  "kernelspec": {
   "display_name": "Python 3",
   "language": "python",
   "name": "python3"
  },
  "language_info": {
   "codemirror_mode": {
    "name": "ipython",
    "version": 3
   },
   "file_extension": ".py",
   "mimetype": "text/x-python",
   "name": "python",
   "nbconvert_exporter": "python",
   "pygments_lexer": "ipython3",
   "version": "3.7.4"
  }
 },
 "nbformat": 4,
 "nbformat_minor": 2
}
