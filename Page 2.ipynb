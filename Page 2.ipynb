{
 "cells": [
  {
   "cell_type": "code",
   "execution_count": null,
   "metadata": {},
   "outputs": [],
   "source": [
    "#This line is for Jupyter's benefit\n",
    "%matplotlib inline\n",
    "\n",
    "\n",
    "import pandas as pd\n",
    "import numpy as np\n",
    "import matplotlib.pyplot as plt\n",
    "\n"
   ]
  },
  {
   "cell_type": "code",
   "execution_count": null,
   "metadata": {},
   "outputs": [],
   "source": [
    "#Load the file\n",
    "data = pd.read_csv(\"canadian_toy_dataset.csv\")\n",
    "\n",
    "#Tell it what our columns are\n",
    "data.columns = [\"city\",\"gender\",\"age\",\"income\",\"ill\"]"
   ]
  },
  {
   "cell_type": "markdown",
   "metadata": {},
   "source": [
    "# Putting more pieces together\n",
    "\n",
    "We can put all of these calculations together to ask more complex questions of the data.\n",
    "\n"
   ]
  },
  {
   "cell_type": "markdown",
   "metadata": {},
   "source": [
    "How many people are `ill` and above the average age of all people in the data set?"
   ]
  },
  {
   "cell_type": "code",
   "execution_count": null,
   "metadata": {},
   "outputs": [],
   "source": [
    "\n",
    "#We found this earlier, so we'll just repeat it here\n",
    "average_age = 45\n",
    "\n",
    "above_average_ill = ill_people[ill_people['age'] > average_age]['ill'].count()\n",
    "\n",
    "print(above_average_ill)"
   ]
  },
  {
   "cell_type": "markdown",
   "metadata": {},
   "source": [
    "What percentage of the above average age people are `ill`?"
   ]
  },
  {
   "cell_type": "code",
   "execution_count": null,
   "metadata": {},
   "outputs": [],
   "source": [
    "\n",
    "total_ill =\n",
    "\n",
    "(above_average_ill / total_ill ) * 100\n"
   ]
  },
  {
   "cell_type": "markdown",
   "metadata": {},
   "source": [
    "## Bar Graphs\n",
    "\n",
    "Let's try to draw how many people are `ill` in each city Let's remind ourself of the data:"
   ]
  },
  {
   "cell_type": "code",
   "execution_count": null,
   "metadata": {},
   "outputs": [],
   "source": [
    "ill_people.groupby(\"city\").count().sort_values(by = \"ill\")"
   ]
  },
  {
   "cell_type": "markdown",
   "metadata": {},
   "source": [
    "Lets build a list of the cities in the dataframe. Remember the *bolded* column is the index of the dataframe"
   ]
  },
  {
   "cell_type": "code",
   "execution_count": null,
   "metadata": {},
   "outputs": [],
   "source": [
    "#Just like above\n",
    "cities = ill_people.groupby(\"city\").count()\n",
    "\n",
    "#We want the cities in increasing number of those ill\n",
    "cities = cities.sort_values(by = \"ill\")\n",
    "\n",
    "#We need lists for our graphing components\n",
    "cities = cities.index.tolist()\n",
    "\n",
    "cities"
   ]
  },
  {
   "cell_type": "code",
   "execution_count": null,
   "metadata": {},
   "outputs": [],
   "source": [
    "#Just like first cell that started this section\n",
    "ill_by_city = ill_people.groupby(\"city\").count()\n",
    "\n",
    "#We want the numbe of ill people in increasing number of those ill\n",
    "ill_by_city = ill_by_city.sort_values(by = \"ill\")\n",
    "\n",
    "#We need lists for our graphing components\n",
    "ill_by_city = ill_by_city['ill'].tolist()\n",
    "\n",
    "ill_by_city"
   ]
  },
  {
   "cell_type": "code",
   "execution_count": null,
   "metadata": {},
   "outputs": [],
   "source": [
    "plt.bar(cities, ill_by_city)\n",
    "\n",
    "#We can rotate our labels so the don't overlap with one another\n",
    "plt.xticks(rotation=90)\n",
    "\n",
    "plt.show()"
   ]
  },
  {
   "cell_type": "markdown",
   "metadata": {},
   "source": [
    "What do you notice about the x-axis?"
   ]
  },
  {
   "cell_type": "markdown",
   "metadata": {},
   "source": [
    "# Bringing it all together\n",
    "\n",
    "Can you make a dataframe of people who are not `ill` and graph them based on what city they are in. Some of the work is written out for you"
   ]
  },
  {
   "cell_type": "code",
   "execution_count": null,
   "metadata": {},
   "outputs": [],
   "source": [
    "#We'll make a new data frame of just the healthy people\n",
    "healthy_people = data[data['ill'] == \"No\"]\n",
    "\n",
    "healthy_people.groupby(\"city\").count().sort_values(by = \"ill\")"
   ]
  },
  {
   "cell_type": "markdown",
   "metadata": {},
   "source": [
    "We'll construct our `cities` list similar to above. \n",
    "\n",
    "Just add in some details on the lines marked with `#FILL` "
   ]
  },
  {
   "cell_type": "code",
   "execution_count": null,
   "metadata": {},
   "outputs": [],
   "source": [
    "cities = healthy_people.groupby(\"\").count() #FILL\n",
    "cities = cities.sort_values(by = \"\") #FILL\n",
    "cities = cities.index.tolist()\n",
    "cities"
   ]
  },
  {
   "cell_type": "code",
   "execution_count": null,
   "metadata": {},
   "outputs": [],
   "source": []
  }
 ],
 "metadata": {
  "kernelspec": {
   "display_name": "Python 3",
   "language": "python",
   "name": "python3"
  },
  "language_info": {
   "codemirror_mode": {
    "name": "ipython",
    "version": 3
   },
   "file_extension": ".py",
   "mimetype": "text/x-python",
   "name": "python",
   "nbconvert_exporter": "python",
   "pygments_lexer": "ipython3",
   "version": "3.7.4"
  }
 },
 "nbformat": 4,
 "nbformat_minor": 2
}
