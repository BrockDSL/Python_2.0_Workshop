{
 "cells": [
  {
   "cell_type": "markdown",
   "metadata": {},
   "source": [
    "![DSL_logo](dsl_logo.png)\n",
    "\n",
    "\n",
    "# Python 2.0!\n",
    "\n",
    "Welcome to the Digital Scholarship Lab Level 2 Python workshop. Before proceeding please make sure you've completed [part 1](https://brockdsl.github.io/Intro_to_Python_Workshop/) \n",
    "\n",
    "Which covers:\n",
    "- variables\n",
    "- math\n",
    "- conditional\n",
    "- loops\n",
    "- functions\n",
    "\n",
    "\n",
    "What we'll learn today is:\n",
    "- importing libraries\n",
    "- analyzing data with pandas\n",
    "- plotting data with matplotlib\n",
    "\n",
    "\n",
    "We'll be using Python as a Data Analysis tool\n",
    "This is how the [Kaggle](https://kaggle.com) website works\n"
   ]
  },
  {
   "cell_type": "markdown",
   "metadata": {},
   "source": [
    "\n",
    "Before we get going the next cell should look totally familar to you"
   ]
  },
  {
   "cell_type": "code",
   "execution_count": null,
   "metadata": {},
   "outputs": [],
   "source": [
    "scores = [3,5,6,2,1,6]\n",
    "\n",
    "def find_mean(scores):\n",
    "    \n",
    "    sum = 0\n",
    "    for s in scores:\n",
    "        sum = sum + s\n",
    "        \n",
    "    return sum/len(scores)\n",
    "\n",
    "\n",
    "print(find_mean(scores))"
   ]
  },
  {
   "cell_type": "markdown",
   "metadata": {},
   "source": [
    "----\n",
    "\n",
    "## Importing Libraries\n",
    "\n",
    "- Our end goal is to re-use as much code as possible\n",
    "- To do this we load in different Libraries using the `import` command\n",
    "- For this example we want to load in the [statistics](https://docs.python.org/3/library/statistics.html) library\n"
   ]
  },
  {
   "cell_type": "code",
   "execution_count": null,
   "metadata": {},
   "outputs": [],
   "source": [
    "import statistics\n",
    "\n",
    "print(statistics.mean(scores))\n",
    "print(statistics.median(scores))\n",
    "print(statistics.mode(scores))\n"
   ]
  },
  {
   "cell_type": "markdown",
   "metadata": {},
   "source": [
    "- Try Q1 - Q2 below and type \"Got it\" in the chat when you are done."
   ]
  },
  {
   "cell_type": "markdown",
   "metadata": {},
   "source": [
    "- **Q1** How would we use the [math](https://docs.python.org/3/library/math.html) library to find the square root of the variable called _number_ following? "
   ]
  },
  {
   "cell_type": "code",
   "execution_count": null,
   "metadata": {
    "scrolled": false
   },
   "outputs": [],
   "source": [
    "import \n",
    "\n",
    "number = 81\n",
    "\n",
    "print(number)"
   ]
  },
  {
   "cell_type": "markdown",
   "metadata": {},
   "source": [
    "- **Q2** The `str` library is so important that it is included all the time Python runs. Try to print the contents of the variable `all_caps` to the screen in lower case letters.\n",
    "\n",
    "Details on the [str](https://docs.python.org/3/library/string.html) library."
   ]
  },
  {
   "cell_type": "code",
   "execution_count": null,
   "metadata": {},
   "outputs": [],
   "source": [
    "all_caps = \"HELLO\"\n",
    "print()"
   ]
  },
  {
   "cell_type": "markdown",
   "metadata": {},
   "source": [
    "\n",
    "# EXERCISE: Analyzing Data\n",
    "\n",
    "![sick](https://upload.wikimedia.org/wikipedia/commons/9/97/Caladrius2.jpg)\n",
    "\n",
    "We'll be focusing on data analysis for the rest of this workshop so let's import some libraries: [pandas](https://pandas.pydata.org/), [numpy](https://numpy.org) & [matplotlib](https://matplotlib.org)\n",
    "\n",
    "We'll be exploring how to do analysis with a riff of a data set taken from [Kaggle](https://www.kaggle.com/carlolepelaars/toy-dataset/). It has been localized with Canadian Cities and shortened a tad. Let's view the [file](canadian_toy_dataset.csv)\n",
    "\n",
    "---\n",
    "\n",
    "![excel preview](https://raw.githubusercontent.com/BrockDSL/Python_2.0_Workshop/master/data_in_excel.png)\n",
    "\n",
    "You could use Excel to do some of this analysis true, but if you have a large dataset, using Excel is going to be difficult to work with.\n",
    "\n",
    "\n",
    "The data has 5 columns\n",
    "- _City_ is a Canadian Cities\n",
    "- _Gender_ is the self reported gender of the person\n",
    "- _Age_ is a integer that represents how old the person in in the record is\n",
    "- _Income_ the annual salary of the person as an integer\n",
    "- _ill_ a 'Yes' or 'No' to indicate if the person is suffering from our mystery illness\n",
    "\n",
    "\n",
    "\n",
    "We want to explore the data to see if we can pick up any insights about who is ill and who is not ill. In part 3 of this workshop we will use machine learning to see if we can make predictions with the data.\n"
   ]
  },
  {
   "cell_type": "markdown",
   "metadata": {},
   "source": [
    "- **Q3** What types of questions might we want to ask from the data? Provides some ideas in the Zoom chat box"
   ]
  },
  {
   "cell_type": "markdown",
   "metadata": {},
   "source": [
    "## Loading the Libraries\n",
    "\n",
    "To get everything ready we need to load the following cell"
   ]
  },
  {
   "cell_type": "code",
   "execution_count": null,
   "metadata": {},
   "outputs": [],
   "source": [
    "#Load the Library Pandas, that works with data\n",
    "import pandas as pd\n",
    "\n",
    "#Load the Library Numpy, that works with numerical calculations\n",
    "import numpy as np\n",
    "\n",
    "#These two libraries are often used together!"
   ]
  },
  {
   "cell_type": "markdown",
   "metadata": {},
   "source": [
    "## Loading the data\n",
    "\n",
    "- We'll load the data into a pandas `dataframe`. ([More Info](https://realpython.com/pandas-dataframe/)) A dataframe has a lot of properties we can use.\n",
    "- It is a very complex type of variable, think of the `dictionary` we looked at last time.\n",
    "- This data is complete, so we don't need to worry about incomplete rows in our observations\n",
    "- We'll take a look at the first 10 lines of the dataset"
   ]
  },
  {
   "cell_type": "code",
   "execution_count": null,
   "metadata": {
    "scrolled": false
   },
   "outputs": [],
   "source": [
    "#Load the file into a dataframe using the pandas read_csv function\n",
    "data = pd.read_csv(\"https://brockdsl.github.io/Python_2.0_Workshop/canadian_toy_dataset.csv\")\n",
    "\n",
    "#Tell it what our columns are by passing along a list of that information\n",
    "data.columns = [\"city\",\"gender\",\"age\",\"income\",\"ill\"]\n",
    "\n",
    "#Show the first 10 lines\n",
    "data.head(10)"
   ]
  },
  {
   "cell_type": "markdown",
   "metadata": {},
   "source": [
    "Pandas can provide us some nice quantitative details about our data by calling the `describe()` function"
   ]
  },
  {
   "cell_type": "code",
   "execution_count": null,
   "metadata": {},
   "outputs": [],
   "source": [
    "data.describe()"
   ]
  },
  {
   "cell_type": "markdown",
   "metadata": {},
   "source": [
    "## Grouping and  Counting\n",
    "\n",
    "- We also need to gather the entries we need by grouping them together with the `.groupby()` function. We can chain these things together to ask very specific questions of the data.\n",
    "- We pass what column we'd like to group the data by\n",
    "- We add `.count()` if we are just interested int the counts and not the dataframe\n"
   ]
  },
  {
   "cell_type": "markdown",
   "metadata": {},
   "source": [
    "How many people are `ill`?"
   ]
  },
  {
   "cell_type": "code",
   "execution_count": null,
   "metadata": {
    "scrolled": false
   },
   "outputs": [],
   "source": [
    "data.groupby(\"ill\")"
   ]
  },
  {
   "cell_type": "code",
   "execution_count": null,
   "metadata": {
    "scrolled": true
   },
   "outputs": [],
   "source": [
    "data.groupby(\"ill\").count()"
   ]
  },
  {
   "cell_type": "markdown",
   "metadata": {},
   "source": [
    "Try questions Q4 & Q5 below and type \"Finished!\" in the chat box when you are done"
   ]
  },
  {
   "cell_type": "markdown",
   "metadata": {},
   "source": [
    "- **Q4** How many people are `Male` in this dataset?"
   ]
  },
  {
   "cell_type": "code",
   "execution_count": null,
   "metadata": {},
   "outputs": [],
   "source": []
  },
  {
   "cell_type": "markdown",
   "metadata": {},
   "source": [
    "- **Q5** How many different cities are in the dataset?"
   ]
  },
  {
   "cell_type": "code",
   "execution_count": null,
   "metadata": {
    "scrolled": true
   },
   "outputs": [],
   "source": []
  },
  {
   "cell_type": "markdown",
   "metadata": {},
   "source": [
    "## Grouping and applying functions\n",
    "\n",
    "- If we want to do some math on the data we need to cluster it together a bit. We use `.groupby()` and then apply our mathematical functions to the result\n",
    "- Here we'll use the following 3 functions:\n",
    " - `mean()` finds the arithmetic mean of the data\n",
    " - `max()` finds the largest occurence of data in that column\n",
    " - `min()` finds the smallest occurennce of data in that column\n"
   ]
  },
  {
   "cell_type": "markdown",
   "metadata": {},
   "source": [
    "What is the average income of people in `Waterloo`?"
   ]
  },
  {
   "cell_type": "code",
   "execution_count": null,
   "metadata": {
    "scrolled": false
   },
   "outputs": [],
   "source": [
    "data.groupby(\"city\")[\"income\"].mean()"
   ]
  },
  {
   "cell_type": "code",
   "execution_count": null,
   "metadata": {},
   "outputs": [],
   "source": []
  },
  {
   "cell_type": "markdown",
   "metadata": {},
   "source": [
    "Try questions Q6-Q8 and type \"All done\" into the chat when you are finished\""
   ]
  },
  {
   "cell_type": "markdown",
   "metadata": {},
   "source": [
    "- **Q6** What is the average age of people in each `city`?"
   ]
  },
  {
   "cell_type": "code",
   "execution_count": null,
   "metadata": {
    "scrolled": true
   },
   "outputs": [],
   "source": []
  },
  {
   "cell_type": "markdown",
   "metadata": {},
   "source": [
    "- **Q7** What is the minimum and maximum age seen in the data"
   ]
  },
  {
   "cell_type": "code",
   "execution_count": null,
   "metadata": {},
   "outputs": [],
   "source": []
  },
  {
   "cell_type": "markdown",
   "metadata": {},
   "source": [
    "- **Q8** What is the maximum and minimum income seen in the data set?"
   ]
  },
  {
   "cell_type": "code",
   "execution_count": null,
   "metadata": {},
   "outputs": [],
   "source": []
  },
  {
   "cell_type": "markdown",
   "metadata": {},
   "source": [
    "# Sorting"
   ]
  },
  {
   "cell_type": "markdown",
   "metadata": {},
   "source": [
    "- We can apply sorting to our dataframe actions by using the funciton `.sort_values()`\n",
    "- We need to give what column we'd like to sort it with `by =`\n",
    "- We also need to tell it to display it in an increase way `ascending = False`"
   ]
  },
  {
   "cell_type": "markdown",
   "metadata": {},
   "source": [
    "What city has the most `ill` people? Here we do it in two steps"
   ]
  },
  {
   "cell_type": "code",
   "execution_count": null,
   "metadata": {},
   "outputs": [],
   "source": [
    "by_city = data.groupby(\"city\").count()\n",
    "\n",
    "sorted_city = by_city.sort_values(by = \"ill\",ascending = False)\n",
    "\n",
    "sorted_city"
   ]
  },
  {
   "cell_type": "markdown",
   "metadata": {},
   "source": [
    "We could also do it in one step:"
   ]
  },
  {
   "cell_type": "code",
   "execution_count": null,
   "metadata": {
    "scrolled": true
   },
   "outputs": [],
   "source": [
    "data.groupby(\"city\").count().sort_values(by = \"ill\",ascending = False)"
   ]
  },
  {
   "cell_type": "markdown",
   "metadata": {},
   "source": [
    "Try questions Q9 - Q10 and type \"Finished\" in the chat when you are done"
   ]
  },
  {
   "cell_type": "markdown",
   "metadata": {},
   "source": [
    "- **Q9** What city has the highest average income?"
   ]
  },
  {
   "cell_type": "code",
   "execution_count": null,
   "metadata": {
    "scrolled": false
   },
   "outputs": [],
   "source": [
    "data.groupby(\"\").mean().sort_values(by = \"\", ascending = False)"
   ]
  },
  {
   "cell_type": "markdown",
   "metadata": {},
   "source": [
    "Answer: "
   ]
  },
  {
   "cell_type": "markdown",
   "metadata": {},
   "source": [
    "- **Q10** What city has the oldest people?"
   ]
  },
  {
   "cell_type": "code",
   "execution_count": null,
   "metadata": {},
   "outputs": [],
   "source": []
  },
  {
   "cell_type": "markdown",
   "metadata": {},
   "source": [
    "Answer:"
   ]
  },
  {
   "cell_type": "markdown",
   "metadata": {},
   "source": [
    "## Unique entries & values counts\n",
    "\n",
    "- Here we use `.unique()` to only give the first instances of the item. Results are returned as a list, which is useful for us later\n",
    "- This is useful for seeing how many values are in a categorical column"
   ]
  },
  {
   "cell_type": "code",
   "execution_count": null,
   "metadata": {
    "scrolled": true
   },
   "outputs": [],
   "source": [
    "data[\"city\"].unique()"
   ]
  },
  {
   "cell_type": "markdown",
   "metadata": {},
   "source": [
    "What are unique values for the `age` field?"
   ]
  },
  {
   "cell_type": "code",
   "execution_count": null,
   "metadata": {
    "scrolled": true
   },
   "outputs": [],
   "source": [
    "data[\"age\"].unique()"
   ]
  },
  {
   "cell_type": "markdown",
   "metadata": {},
   "source": [
    "- To get total number of unique values and frequency in the data we use `value_counts() "
   ]
  },
  {
   "cell_type": "code",
   "execution_count": null,
   "metadata": {
    "scrolled": false
   },
   "outputs": [],
   "source": [
    "data[\"city\"].value_counts()"
   ]
  },
  {
   "cell_type": "markdown",
   "metadata": {},
   "source": [
    "## Selecting subsets of data\n",
    "\n",
    "- To make life easier we can create dataframes that just have the values we are interested in\n",
    "- This is a bit more complicated but follows this type of pattern:\n",
    "\n",
    "```\n",
    "dataframe[dataframe[search criteria]]\n",
    "```\n",
    "\n",
    "- We are basically creating a subset of the dataframe by matching all entries that match `search criteria`\n",
    "- That search criteria can be anything that is a conditional\n",
    "- Doing this gives you a new dataframe"
   ]
  },
  {
   "cell_type": "markdown",
   "metadata": {},
   "source": [
    "EG. A new dataframe of people with an income over $100000"
   ]
  },
  {
   "cell_type": "code",
   "execution_count": null,
   "metadata": {
    "scrolled": false
   },
   "outputs": [],
   "source": [
    "over_100k = data[data[\"income\"] > 100000]\n",
    "print(over_100k)"
   ]
  },
  {
   "cell_type": "markdown",
   "metadata": {},
   "source": [
    "EG. If we want the count of people over 100k, we apply the `.count()` function to what we selected"
   ]
  },
  {
   "cell_type": "code",
   "execution_count": null,
   "metadata": {
    "scrolled": false
   },
   "outputs": [],
   "source": [
    "over_100k.count()"
   ]
  },
  {
   "cell_type": "markdown",
   "metadata": {},
   "source": [
    "This can be done in 1 line as well"
   ]
  },
  {
   "cell_type": "code",
   "execution_count": null,
   "metadata": {},
   "outputs": [],
   "source": [
    "data[data[\"income\"] > 100000].count()"
   ]
  },
  {
   "cell_type": "markdown",
   "metadata": {},
   "source": [
    "Try Q11 below and type \"I got it\" into the chat when you are done"
   ]
  },
  {
   "cell_type": "markdown",
   "metadata": {},
   "source": [
    "- **Q11** Can you make a new dataframe that just has people from `Waterloo` in it. Display the first 5 entries."
   ]
  },
  {
   "cell_type": "code",
   "execution_count": null,
   "metadata": {},
   "outputs": [],
   "source": [
    "waterloo_people = "
   ]
  },
  {
   "cell_type": "markdown",
   "metadata": {},
   "source": [
    "# Some questions now"
   ]
  },
  {
   "cell_type": "markdown",
   "metadata": {},
   "source": [
    "Let's first make a dataframe of all of the ill people"
   ]
  },
  {
   "cell_type": "code",
   "execution_count": null,
   "metadata": {
    "scrolled": true
   },
   "outputs": [],
   "source": [
    "ill_people = data[data[\"ill\"] == \"Yes\"]\n",
    "ill_people"
   ]
  },
  {
   "cell_type": "markdown",
   "metadata": {},
   "source": [
    "Try answering Q12 - Q15, type \"Finished\" into the chat when you are done"
   ]
  },
  {
   "cell_type": "markdown",
   "metadata": {},
   "source": [
    "- **Q12** How can we sort our `ill_people` dataframe?"
   ]
  },
  {
   "cell_type": "code",
   "execution_count": null,
   "metadata": {},
   "outputs": [],
   "source": []
  },
  {
   "cell_type": "markdown",
   "metadata": {},
   "source": [
    "- **Q13** What percentage of people in the `ill_people` dataset have a salary over $100000"
   ]
  },
  {
   "cell_type": "code",
   "execution_count": null,
   "metadata": {},
   "outputs": [],
   "source": []
  },
  {
   "cell_type": "markdown",
   "metadata": {},
   "source": [
    "- **Q14** What is the average age of people in the `ill_people` dataset?"
   ]
  },
  {
   "cell_type": "code",
   "execution_count": null,
   "metadata": {},
   "outputs": [],
   "source": []
  },
  {
   "cell_type": "markdown",
   "metadata": {},
   "source": [
    "- **Q15** What is the average salary of those in the `ill_people` dataset ?"
   ]
  },
  {
   "cell_type": "code",
   "execution_count": null,
   "metadata": {},
   "outputs": [],
   "source": []
  },
  {
   "cell_type": "markdown",
   "metadata": {},
   "source": [
    "# Another Library, MatplotLib\n",
    "\n",
    "If we have time, let's take a look at graphing our results\n",
    "\n",
    "We can use the `matplotlib` library to generate some graphs of our results. We always gives lists as parameters for the graphs\n"
   ]
  },
  {
   "cell_type": "code",
   "execution_count": null,
   "metadata": {},
   "outputs": [],
   "source": [
    "#This line is for Jupyter's benefit\n",
    "%matplotlib inline\n",
    "#Import MayPlotLib to graph some results\n",
    "import matplotlib.pyplot as plt"
   ]
  },
  {
   "cell_type": "markdown",
   "metadata": {},
   "source": [
    "Let's reload our data into a new dataframe"
   ]
  },
  {
   "cell_type": "code",
   "execution_count": null,
   "metadata": {},
   "outputs": [],
   "source": [
    "#Load the file\n",
    "graph_data = pd.read_csv(\"https://brockdsl.github.io/Python_2.0_Workshop/canadian_toy_dataset.csv\")\n",
    "\n",
    "#Tell it what our columns are\n",
    "graph_data.columns = [\"city\",\"gender\",\"age\",\"income\",\"ill\"]"
   ]
  },
  {
   "cell_type": "markdown",
   "metadata": {},
   "source": [
    "## Pie Graphs\n",
    "Let's draw a pie graph of the number of people that are `ill` as a proportion of everyone"
   ]
  },
  {
   "cell_type": "code",
   "execution_count": null,
   "metadata": {
    "scrolled": false
   },
   "outputs": [],
   "source": [
    "#All of the ill people\n",
    "total_ill = graph_data[graph_data[\"ill\"] == \"Yes\"][\"ill\"].count()\n",
    "#print(total_ill)\n",
    "\n",
    "#All the people in the graph\n",
    "total_people = graph_data.count()['ill']\n",
    "#print(total_people)\n",
    "\n",
    "\n",
    "# Matplot lib always wants data in a list, so we'll make one\n",
    "pie_data = [total_ill,total_people]\n",
    "pie_labels = [\"Ill\", \"No Ill\"]\n",
    "plt.pie(pie_data,labels=pie_labels)\n",
    "\n",
    "plt.show()"
   ]
  },
  {
   "cell_type": "markdown",
   "metadata": {},
   "source": [
    "Try questions Q16  - Q17 and type \"Completed\" in the chat when you're done."
   ]
  },
  {
   "cell_type": "markdown",
   "metadata": {},
   "source": [
    "- **Q16** Can you create a pie graph that shows the gender distribution in the data?"
   ]
  },
  {
   "cell_type": "code",
   "execution_count": null,
   "metadata": {},
   "outputs": [],
   "source": [
    "#Fill in the following\n",
    "females_ill = graph_data[graph_data[\"\"] ==\"\"][\"ill\"].count()\n",
    "\n",
    "#Fill in the following\n",
    "males_ill = graph_data[graph_data[\"\"] ==\"\"][\"ill\"].count()\n",
    "\n",
    "pie_data = [females_ill,males_ill]\n",
    "pie_labels = [\"Females\",\"Males\"]\n",
    "plt.pie(pie_data,labels=pie_labels)\n",
    "\n",
    "plt.show()"
   ]
  },
  {
   "cell_type": "markdown",
   "metadata": {},
   "source": [
    "- **Q17** Can you create a pie graph that shows the how many people in the dataset make over 100000 annual income"
   ]
  },
  {
   "cell_type": "code",
   "execution_count": null,
   "metadata": {},
   "outputs": [],
   "source": [
    "#Fill in the following\n",
    "over_100k = graph_data[graph_data[\"\"]  100000][\"income\"].count()\n",
    "\n",
    "#Fill in the following\n",
    "under_100k = graph_data[graph_data[\"\"]  100000][\"income\"].count()\n",
    "\n",
    "pie_data = [over_100k, under_100k]\n",
    "pie_labels = [\"Over 100k\",\"Under 100k\"]\n",
    "plt.pie(pie_data,labels=pie_labels)\n",
    "\n",
    "plt.show()"
   ]
  },
  {
   "cell_type": "markdown",
   "metadata": {},
   "source": [
    "## Automatic Histograms\n",
    "\n",
    "\n",
    "Say we wanted to plot out the income distribution of our data set as a [historgram](https://en.wikipedia.org/wiki/Histogram) "
   ]
  },
  {
   "cell_type": "code",
   "execution_count": null,
   "metadata": {
    "scrolled": true
   },
   "outputs": [],
   "source": [
    "# bins is the number of containers we'll split our x-axis values into\n",
    "bins = 250\n",
    "\n",
    "plt.hist(graph_data[\"income\"],bins)\n",
    "\n",
    "plt.title(\"Income distribution\")\n",
    "plt.xlabel(\"Income\")\n",
    "plt.ylabel(\"Occurrences\")\n",
    "\n",
    "plt.show()"
   ]
  },
  {
   "cell_type": "markdown",
   "metadata": {},
   "source": [
    "Try Q18 below and type \"All done!\" in the chat when you're done"
   ]
  },
  {
   "cell_type": "markdown",
   "metadata": {},
   "source": [
    "**Q18** Can you draw a histogram of the `age` distribution? Make sure to give it a `title` and other descriptive text and use an appropriate number of bins. (The example above should help you)"
   ]
  },
  {
   "cell_type": "code",
   "execution_count": null,
   "metadata": {
    "scrolled": true
   },
   "outputs": [],
   "source": [
    "bins = #FILL\n",
    "\n",
    "plt.hist() #FILL\n",
    "plt.title() #FILL\n",
    "plt.xlabel() #FILL\n",
    "plt.ylabel() #FILL\n",
    "\n",
    "plt.show()"
   ]
  },
  {
   "cell_type": "markdown",
   "metadata": {},
   "source": [
    "# Congrats!\n",
    "\n",
    "You now know a bit about Python Libraries and using advance features of the Language. Try adding new cells to this page and asking yourself more questions\n"
   ]
  },
  {
   "cell_type": "markdown",
   "metadata": {},
   "source": [
    "## Further Reading\n",
    "\n",
    "- Now that we've handled the basics here are some interesting next steps you can persue.\n",
    "\n",
    "[Kaggle](https://www.kaggle.com/) - An online portal that teaches data science using Notebooks, also has contests for cash prizes\n",
    "\n",
    "[Python the Hard Way](https://learntocodetogether.com/learn-python-the-hard-way-free-ebook-download/) - Don't let the name fool you, this book is a great introduction to Python and programming more generally\n",
    "\n",
    "[Data Analysis with Python and Sci Hub](https://brockdsl.github.io/SciHub_Workshop/) - A tutorial on using Python to analyze Sci-Hub data. Similar to what we saw today, but with real data.\n",
    "\n",
    "[Thinking in Pandas](https://www.apress.com/gp/book/9781484258385) - A short book that looks at how to use Pandas for analysis."
   ]
  }
 ],
 "metadata": {
  "kernelspec": {
   "display_name": "Python 3",
   "language": "python",
   "name": "python3"
  },
  "language_info": {
   "codemirror_mode": {
    "name": "ipython",
    "version": 3
   },
   "file_extension": ".py",
   "mimetype": "text/x-python",
   "name": "python",
   "nbconvert_exporter": "python",
   "pygments_lexer": "ipython3",
   "version": "3.7.4"
  }
 },
 "nbformat": 4,
 "nbformat_minor": 2
}
